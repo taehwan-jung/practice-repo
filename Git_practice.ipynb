{
  "cells": [
    {
      "cell_type": "code",
      "execution_count": 28,
      "metadata": {
        "colab": {
          "base_uri": "https://localhost:8080/"
        },
        "id": "zMOzWYvqayy8",
        "outputId": "3a1a7304-b9de-48d4-c75f-ceceead51c79"
      },
      "outputs": [
        {
          "name": "stdout",
          "output_type": "stream",
          "text": [
            "[0. 0. 0. 0. 0. 0. 0. 0. 0. 0.]\n",
            "Cloning into 'practice-repo'...\n",
            "warning: You appear to have cloned an empty repository.\n",
            "/content/practice-repo/practice-repo\n",
            "Reinitialized existing Git repository in /content/practice-repo/practice-repo/.git/\n",
            "fatal: pathspec 'README.md' did not match any files\n",
            "On branch main\n",
            "\n",
            "Initial commit\n",
            "\n",
            "nothing to commit (create/copy files and use \"git add\" to track)\n",
            "error: src refspec main does not match any\n",
            "\u001b[31merror: failed to push some refs to 'https://github.com/taehwan-jung/practice-repo.git'\n",
            "\u001b[merror: src refspec refs/heads/main does not match any\n",
            "\u001b[31merror: failed to push some refs to 'https://github.com/taehwan-jung/practice-repo.git'\n",
            "\u001b[m"
          ]
        }
      ],
      "source": [
        "# First code\n",
        "import numpy as np\n",
        "import pandas as pd\n",
        "\n",
        "a = np.zeros(10)\n",
        "\n",
        "print(a)\n",
        "\n",
        "#!apt-get install git\n",
        "!git config --global user.name \"Taehwan Jung\"\n",
        "!git config --global user.email \"tehoan94@gmail.com\"\n",
        "!git clone https://github.com/taehwan-jung/practice-repo.git\n",
        "%cd practice-repo\n",
        "!git init\n",
        "#!echo \"First code\" > README.md\n",
        "!git add README.md\n",
        "!git commit -m \"first commit\"\n",
        "!git push -u origin main\n",
        "\n",
        "import os\n",
        "os.system(\"git config --global credential.helper store\")\n",
        "\n",
        "# 인증 정보를 입력하여 푸시\n",
        "!git push https://github.com/taehwan-jung/practice-repo.git\n"
      ]
    },
    {
      "cell_type": "code",
      "execution_count": 24,
      "metadata": {
        "id": "WaMl1BXqa1H7"
      },
      "outputs": [],
      "source": [
        "# Second code"
      ]
    }
  ],
  "metadata": {
    "colab": {
      "provenance": []
    },
    "kernelspec": {
      "display_name": "Python 3",
      "name": "python3"
    },
    "language_info": {
      "name": "python"
    }
  },
  "nbformat": 4,
  "nbformat_minor": 0
}
